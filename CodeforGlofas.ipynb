{
 "cells": [
  {
   "cell_type": "code",
   "execution_count": 1,
   "id": "dac19e54-8a97-40ab-b897-80a04f8e23c8",
   "metadata": {},
   "outputs": [
    {
     "name": "stdout",
     "output_type": "stream",
     "text": [
      "Requirement already satisfied: cdsapi>=0.7.7 in c:\\users\\owner\\anaconda3\\lib\\site-packages (0.7.7)\n",
      "Requirement already satisfied: ecmwf-datastores-client>=0.4.0 in c:\\users\\owner\\anaconda3\\lib\\site-packages (from cdsapi>=0.7.7) (0.4.0)\n",
      "Requirement already satisfied: requests>=2.5.0 in c:\\users\\owner\\anaconda3\\lib\\site-packages (from cdsapi>=0.7.7) (2.32.2)\n",
      "Requirement already satisfied: tqdm in c:\\users\\owner\\anaconda3\\lib\\site-packages (from cdsapi>=0.7.7) (4.66.4)\n",
      "Requirement already satisfied: attrs in c:\\users\\owner\\anaconda3\\lib\\site-packages (from ecmwf-datastores-client>=0.4.0->cdsapi>=0.7.7) (23.1.0)\n",
      "Requirement already satisfied: multiurl>=0.3.7 in c:\\users\\owner\\anaconda3\\lib\\site-packages (from ecmwf-datastores-client>=0.4.0->cdsapi>=0.7.7) (0.3.7)\n",
      "Requirement already satisfied: typing-extensions in c:\\users\\owner\\anaconda3\\lib\\site-packages (from ecmwf-datastores-client>=0.4.0->cdsapi>=0.7.7) (4.11.0)\n",
      "Requirement already satisfied: charset-normalizer<4,>=2 in c:\\users\\owner\\anaconda3\\lib\\site-packages (from requests>=2.5.0->cdsapi>=0.7.7) (2.0.4)\n",
      "Requirement already satisfied: idna<4,>=2.5 in c:\\users\\owner\\anaconda3\\lib\\site-packages (from requests>=2.5.0->cdsapi>=0.7.7) (3.7)\n",
      "Requirement already satisfied: urllib3<3,>=1.21.1 in c:\\users\\owner\\anaconda3\\lib\\site-packages (from requests>=2.5.0->cdsapi>=0.7.7) (2.2.2)\n",
      "Requirement already satisfied: certifi>=2017.4.17 in c:\\users\\owner\\anaconda3\\lib\\site-packages (from requests>=2.5.0->cdsapi>=0.7.7) (2024.6.2)\n",
      "Requirement already satisfied: colorama in c:\\users\\owner\\anaconda3\\lib\\site-packages (from tqdm->cdsapi>=0.7.7) (0.4.6)\n",
      "Requirement already satisfied: pytz in c:\\users\\owner\\anaconda3\\lib\\site-packages (from multiurl>=0.3.7->ecmwf-datastores-client>=0.4.0->cdsapi>=0.7.7) (2024.1)\n",
      "Requirement already satisfied: python-dateutil in c:\\users\\owner\\anaconda3\\lib\\site-packages (from multiurl>=0.3.7->ecmwf-datastores-client>=0.4.0->cdsapi>=0.7.7) (2.9.0.post0)\n",
      "Requirement already satisfied: six>=1.5 in c:\\users\\owner\\anaconda3\\lib\\site-packages (from python-dateutil->multiurl>=0.3.7->ecmwf-datastores-client>=0.4.0->cdsapi>=0.7.7) (1.16.0)\n"
     ]
    }
   ],
   "source": [
    "!pip install \"cdsapi>=0.7.7\"\n",
    "\n",
    "# Other requirements:\n",
    "!pip -q install cfgrib ecmwf-opendata\n",
    "!pip -q install xarray netcdf4\n",
    "!pip -q install matplotlib\n",
    "!pip -q install cartopy"
   ]
  },
  {
   "cell_type": "code",
   "execution_count": 2,
   "id": "c256ff4f-2cc2-4cb2-b972-9f6c8b88c893",
   "metadata": {},
   "outputs": [],
   "source": [
    "import os\n",
    "\n",
    "# CDS API\n",
    "import cdsapi\n",
    "\n",
    "# Libraries for working with multidimensional arrays\n",
    "import numpy as np\n",
    "import xarray as xr\n",
    "\n",
    "# Libraries for plotting and visualising data\n",
    "import matplotlib.pyplot as plt\n",
    "import cartopy.crs as ccrs\n",
    "import cartopy.feature as cfeature\n",
    "\n",
    "# Disable warnings for data download via API\n",
    "import urllib3 \n",
    "urllib3.disable_warnings()\n",
    "# Disable xarray runtime warnings\n",
    "import warnings\n",
    "warnings.simplefilter(\"ignore\", category=RuntimeWarning)"
   ]
  },
  {
   "cell_type": "markdown",
   "id": "40bb1108-77b8-425d-a2e1-2ebf371904fb",
   "metadata": {},
   "source": [
    "**Check the Datasets here:** https://ewds.climate.copernicus.eu/datasets **and fill the system version, hydrological model, product type, variable, and area from there.**"
   ]
  },
  {
   "cell_type": "code",
   "execution_count": 39,
   "id": "5a8ef42a-5c4e-4500-a386-e92be5d7b2ad",
   "metadata": {},
   "outputs": [
    {
     "name": "stderr",
     "output_type": "stream",
     "text": [
      "2025-10-01 11:20:48,991 INFO [2024-09-26T00:00:00] Watch our [Forum]( https://forum.ecmwf.int/) for Announcements, news and other discussed topics.\n",
      "2025-10-01 11:20:49,534 INFO [2024-02-01T00:00:00] Please note that accessing this dataset via CDS for time-critical operation is not advised or supported\n",
      "2025-10-01 11:20:49,535 INFO [2024-02-01T00:00:00] Please note we suggest checking the list of known issues on the GloFAS wiki\n",
      "[here](https://confluence.ecmwf.int/display/CEMS/GloFAS+-+Known+Issues)\n",
      "before downloading the dataset.\n",
      "2025-10-01 11:20:49,536 INFO Request ID is ec074af4-d73a-4dc9-8dc5-f6b077a709fe\n",
      "2025-10-01 11:20:49,714 INFO status has been updated to accepted\n",
      "2025-10-01 11:21:05,116 INFO status has been updated to running\n",
      "2025-10-01 11:23:44,425 INFO status has been updated to successful\n"
     ]
    },
    {
     "data": {
      "application/vnd.jupyter.widget-view+json": {
       "model_id": "ce1b2197de7b4b25b011c5f833eda131",
       "version_major": 2,
       "version_minor": 0
      },
      "text/plain": [
       "6fa33bca1a615edbdd25ace39100990.grib:   0%|          | 0.00/6.76M [00:00<?, ?B/s]"
      ]
     },
     "metadata": {},
     "output_type": "display_data"
    },
    {
     "name": "stderr",
     "output_type": "stream",
     "text": [
      "2025-10-01 11:23:55,520 INFO [2024-02-01T00:00:00] Please note that accessing this dataset via CDS for time-critical operation is not advised or supported\n",
      "2025-10-01 11:23:55,521 INFO [2024-02-01T00:00:00] Please note we suggest checking the list of known issues on the GloFAS wiki\n",
      "[here](https://confluence.ecmwf.int/display/CEMS/GloFAS+-+Known+Issues)\n",
      "before downloading the dataset.\n",
      "2025-10-01 11:23:55,522 INFO Request ID is e048b25a-18b2-4b6f-9b67-00c0a168c377\n",
      "2025-10-01 11:23:55,698 INFO status has been updated to accepted\n",
      "2025-10-01 11:24:04,720 INFO status has been updated to running\n",
      "2025-10-01 11:26:51,347 INFO status has been updated to successful\n"
     ]
    },
    {
     "data": {
      "application/vnd.jupyter.widget-view+json": {
       "model_id": "d327c68358874050b27c9c6f123a5911",
       "version_major": 2,
       "version_minor": 0
      },
      "text/plain": [
       "5f233c8bbd7cb4ba6aa3ae2e814f844b.grib:   0%|          | 0.00/6.76M [00:00<?, ?B/s]"
      ]
     },
     "metadata": {},
     "output_type": "display_data"
    },
    {
     "name": "stderr",
     "output_type": "stream",
     "text": [
      "2025-10-01 11:26:59,744 INFO [2024-02-01T00:00:00] Please note that accessing this dataset via CDS for time-critical operation is not advised or supported\n",
      "2025-10-01 11:26:59,745 INFO [2024-02-01T00:00:00] Please note we suggest checking the list of known issues on the GloFAS wiki\n",
      "[here](https://confluence.ecmwf.int/display/CEMS/GloFAS+-+Known+Issues)\n",
      "before downloading the dataset.\n",
      "2025-10-01 11:26:59,746 INFO Request ID is 060f3391-0510-4c90-8455-0bc97a5e6327\n",
      "2025-10-01 11:26:59,932 INFO status has been updated to accepted\n",
      "2025-10-01 11:27:53,520 INFO status has been updated to running\n",
      "2025-10-01 11:31:23,973 INFO status has been updated to successful\n"
     ]
    },
    {
     "data": {
      "application/vnd.jupyter.widget-view+json": {
       "model_id": "f55a5b28b9f2457c889b2c7d26dd7a11",
       "version_major": 2,
       "version_minor": 0
      },
      "text/plain": [
       "a767bccc812860ea5ca72c434bc06ffd.grib:   0%|          | 0.00/6.78M [00:00<?, ?B/s]"
      ]
     },
     "metadata": {},
     "output_type": "display_data"
    },
    {
     "name": "stderr",
     "output_type": "stream",
     "text": [
      "2025-10-01 11:31:32,939 INFO [2024-02-01T00:00:00] Please note that accessing this dataset via CDS for time-critical operation is not advised or supported\n",
      "2025-10-01 11:31:32,940 INFO [2024-02-01T00:00:00] Please note we suggest checking the list of known issues on the GloFAS wiki\n",
      "[here](https://confluence.ecmwf.int/display/CEMS/GloFAS+-+Known+Issues)\n",
      "before downloading the dataset.\n",
      "2025-10-01 11:31:32,941 INFO Request ID is 0eea97f1-f07b-41b1-a119-67b10d2b9acd\n",
      "2025-10-01 11:31:33,937 INFO status has been updated to accepted\n",
      "2025-10-01 11:31:48,199 INFO status has been updated to running\n",
      "2025-10-01 11:35:58,992 INFO status has been updated to successful\n"
     ]
    },
    {
     "data": {
      "application/vnd.jupyter.widget-view+json": {
       "model_id": "3548ab7023934e9a9e9fe7251b641f16",
       "version_major": 2,
       "version_minor": 0
      },
      "text/plain": [
       "d5d41101cfd0813e4c114b40901b5a72.grib:   0%|          | 0.00/6.76M [00:00<?, ?B/s]"
      ]
     },
     "metadata": {},
     "output_type": "display_data"
    },
    {
     "name": "stderr",
     "output_type": "stream",
     "text": [
      "2025-10-01 11:36:09,685 INFO [2024-02-01T00:00:00] Please note that accessing this dataset via CDS for time-critical operation is not advised or supported\n",
      "2025-10-01 11:36:09,689 INFO [2024-02-01T00:00:00] Please note we suggest checking the list of known issues on the GloFAS wiki\n",
      "[here](https://confluence.ecmwf.int/display/CEMS/GloFAS+-+Known+Issues)\n",
      "before downloading the dataset.\n",
      "2025-10-01 11:36:09,689 INFO Request ID is afe9e52c-480c-4096-b324-f866859f9627\n",
      "2025-10-01 11:36:10,052 INFO status has been updated to accepted\n",
      "2025-10-01 11:36:22,867 INFO status has been updated to running\n",
      "2025-10-01 11:39:07,745 INFO status has been updated to successful\n"
     ]
    },
    {
     "data": {
      "application/vnd.jupyter.widget-view+json": {
       "model_id": "faf72a474422422fb4c195c3db517a8a",
       "version_major": 2,
       "version_minor": 0
      },
      "text/plain": [
       "c9d8416bed11ef51de743f3355d753ba.grib:   0%|          | 0.00/6.76M [00:00<?, ?B/s]"
      ]
     },
     "metadata": {},
     "output_type": "display_data"
    },
    {
     "name": "stderr",
     "output_type": "stream",
     "text": [
      "2025-10-01 11:39:16,579 INFO [2024-02-01T00:00:00] Please note that accessing this dataset via CDS for time-critical operation is not advised or supported\n",
      "2025-10-01 11:39:16,579 INFO [2024-02-01T00:00:00] Please note we suggest checking the list of known issues on the GloFAS wiki\n",
      "[here](https://confluence.ecmwf.int/display/CEMS/GloFAS+-+Known+Issues)\n",
      "before downloading the dataset.\n",
      "2025-10-01 11:39:16,595 INFO Request ID is cc684158-244c-4631-9170-79e67cd9276d\n",
      "2025-10-01 11:39:16,762 INFO status has been updated to accepted\n",
      "2025-10-01 11:40:07,563 INFO status has been updated to running\n",
      "2025-10-01 11:42:10,752 INFO status has been updated to successful\n"
     ]
    },
    {
     "data": {
      "application/vnd.jupyter.widget-view+json": {
       "model_id": "b7d6153c9ba24302935d82b1c0956ba8",
       "version_major": 2,
       "version_minor": 0
      },
      "text/plain": [
       "208340fdf6a60b2c4f7ba0abcf3a7f13.grib:   0%|          | 0.00/6.76M [00:00<?, ?B/s]"
      ]
     },
     "metadata": {},
     "output_type": "display_data"
    },
    {
     "name": "stderr",
     "output_type": "stream",
     "text": [
      "2025-10-01 11:42:19,877 INFO [2024-02-01T00:00:00] Please note that accessing this dataset via CDS for time-critical operation is not advised or supported\n",
      "2025-10-01 11:42:19,877 INFO [2024-02-01T00:00:00] Please note we suggest checking the list of known issues on the GloFAS wiki\n",
      "[here](https://confluence.ecmwf.int/display/CEMS/GloFAS+-+Known+Issues)\n",
      "before downloading the dataset.\n",
      "2025-10-01 11:42:19,877 INFO Request ID is 35714ea3-ebff-4ce6-bb20-bcabe36741a9\n",
      "2025-10-01 11:42:20,079 INFO status has been updated to accepted\n",
      "2025-10-01 11:43:10,953 INFO status has been updated to running\n",
      "2025-10-01 11:46:40,777 INFO status has been updated to successful\n"
     ]
    },
    {
     "data": {
      "application/vnd.jupyter.widget-view+json": {
       "model_id": "05ef56b024714be39df5474b26c8341a",
       "version_major": 2,
       "version_minor": 0
      },
      "text/plain": [
       "ded0ce10996ddb9890ae5cd35c11b0fc.grib:   0%|          | 0.00/6.78M [00:00<?, ?B/s]"
      ]
     },
     "metadata": {},
     "output_type": "display_data"
    },
    {
     "name": "stderr",
     "output_type": "stream",
     "text": [
      "2025-10-01 11:46:52,806 INFO [2024-02-01T00:00:00] Please note that accessing this dataset via CDS for time-critical operation is not advised or supported\n",
      "2025-10-01 11:46:52,806 INFO [2024-02-01T00:00:00] Please note we suggest checking the list of known issues on the GloFAS wiki\n",
      "[here](https://confluence.ecmwf.int/display/CEMS/GloFAS+-+Known+Issues)\n",
      "before downloading the dataset.\n",
      "2025-10-01 11:46:52,806 INFO Request ID is 7b9f1595-0b1a-49f3-8a12-7b41e2b523bc\n",
      "2025-10-01 11:46:55,764 INFO status has been updated to accepted\n",
      "2025-10-01 11:47:17,670 INFO status has been updated to running\n",
      "2025-10-01 11:51:16,475 INFO status has been updated to successful\n"
     ]
    },
    {
     "data": {
      "application/vnd.jupyter.widget-view+json": {
       "model_id": "10fc1e0f06384064a34e9bf0cb4a86bd",
       "version_major": 2,
       "version_minor": 0
      },
      "text/plain": [
       "fcd78dcfbfc4515d9bfcb662609e8c68.grib:   0%|          | 0.00/6.76M [00:00<?, ?B/s]"
      ]
     },
     "metadata": {},
     "output_type": "display_data"
    },
    {
     "name": "stderr",
     "output_type": "stream",
     "text": [
      "2025-10-01 11:51:24,465 INFO [2024-02-01T00:00:00] Please note that accessing this dataset via CDS for time-critical operation is not advised or supported\n",
      "2025-10-01 11:51:24,465 INFO [2024-02-01T00:00:00] Please note we suggest checking the list of known issues on the GloFAS wiki\n",
      "[here](https://confluence.ecmwf.int/display/CEMS/GloFAS+-+Known+Issues)\n",
      "before downloading the dataset.\n",
      "2025-10-01 11:51:24,465 INFO Request ID is 54e9885b-a543-4206-b477-6e8be7cd438c\n",
      "2025-10-01 11:51:24,751 INFO status has been updated to accepted\n",
      "2025-10-01 11:51:34,823 INFO status has been updated to running\n",
      "2025-10-01 11:54:19,365 INFO status has been updated to successful\n"
     ]
    },
    {
     "data": {
      "application/vnd.jupyter.widget-view+json": {
       "model_id": "3f62d071e33f4632b8d01edaa3381d21",
       "version_major": 2,
       "version_minor": 0
      },
      "text/plain": [
       "283fea38729a66e359d546769c9f1804.grib:   0%|          | 0.00/6.76M [00:00<?, ?B/s]"
      ]
     },
     "metadata": {},
     "output_type": "display_data"
    },
    {
     "name": "stderr",
     "output_type": "stream",
     "text": [
      "2025-10-01 11:54:28,077 INFO [2024-02-01T00:00:00] Please note that accessing this dataset via CDS for time-critical operation is not advised or supported\n",
      "2025-10-01 11:54:28,077 INFO [2024-02-01T00:00:00] Please note we suggest checking the list of known issues on the GloFAS wiki\n",
      "[here](https://confluence.ecmwf.int/display/CEMS/GloFAS+-+Known+Issues)\n",
      "before downloading the dataset.\n",
      "2025-10-01 11:54:28,077 INFO Request ID is 5c87acb2-2a2f-4c47-a6d4-ba089a60920b\n",
      "2025-10-01 11:54:28,243 INFO status has been updated to accepted\n",
      "2025-10-01 11:54:42,510 INFO status has been updated to running\n",
      "2025-10-01 11:56:23,506 INFO status has been updated to successful\n"
     ]
    },
    {
     "data": {
      "application/vnd.jupyter.widget-view+json": {
       "model_id": "19753645bec34f70a0f36dcef981e2cd",
       "version_major": 2,
       "version_minor": 0
      },
      "text/plain": [
       "6885f5f492f515ba9a2e88d56a44500a.grib:   0%|          | 0.00/6.76M [00:00<?, ?B/s]"
      ]
     },
     "metadata": {},
     "output_type": "display_data"
    },
    {
     "name": "stderr",
     "output_type": "stream",
     "text": [
      "2025-10-01 11:56:30,962 INFO [2024-02-01T00:00:00] Please note that accessing this dataset via CDS for time-critical operation is not advised or supported\n",
      "2025-10-01 11:56:30,962 INFO [2024-02-01T00:00:00] Please note we suggest checking the list of known issues on the GloFAS wiki\n",
      "[here](https://confluence.ecmwf.int/display/CEMS/GloFAS+-+Known+Issues)\n",
      "before downloading the dataset.\n",
      "2025-10-01 11:56:30,962 INFO Request ID is cc0c3951-f5fb-4d29-9202-2d1a343a0a18\n",
      "2025-10-01 11:56:31,805 INFO status has been updated to accepted\n",
      "2025-10-01 11:56:45,842 INFO status has been updated to running\n",
      "2025-10-01 12:00:53,231 INFO status has been updated to successful\n"
     ]
    },
    {
     "data": {
      "application/vnd.jupyter.widget-view+json": {
       "model_id": "278c80a53203440ba03a0ffcbf2047b9",
       "version_major": 2,
       "version_minor": 0
      },
      "text/plain": [
       "ce97137b89f4607cc56b1128cbf87d27.grib:   0%|          | 0.00/6.78M [00:00<?, ?B/s]"
      ]
     },
     "metadata": {},
     "output_type": "display_data"
    },
    {
     "name": "stderr",
     "output_type": "stream",
     "text": [
      "2025-10-01 12:01:02,214 INFO [2024-02-01T00:00:00] Please note that accessing this dataset via CDS for time-critical operation is not advised or supported\n",
      "2025-10-01 12:01:02,214 INFO [2024-02-01T00:00:00] Please note we suggest checking the list of known issues on the GloFAS wiki\n",
      "[here](https://confluence.ecmwf.int/display/CEMS/GloFAS+-+Known+Issues)\n",
      "before downloading the dataset.\n",
      "2025-10-01 12:01:02,214 INFO Request ID is 72836fa1-7136-4b0b-9e82-63de8cc11b54\n",
      "2025-10-01 12:01:02,382 INFO status has been updated to accepted\n",
      "2025-10-01 12:01:35,919 INFO status has been updated to running\n",
      "2025-10-01 12:05:23,132 INFO status has been updated to successful\n"
     ]
    },
    {
     "data": {
      "application/vnd.jupyter.widget-view+json": {
       "model_id": "532e425912e042978a5ae6a2c7a62cb9",
       "version_major": 2,
       "version_minor": 0
      },
      "text/plain": [
       "c664665e5181a777faf271578041ad77.grib:   0%|          | 0.00/6.76M [00:00<?, ?B/s]"
      ]
     },
     "metadata": {},
     "output_type": "display_data"
    },
    {
     "name": "stderr",
     "output_type": "stream",
     "text": [
      "2025-10-01 12:05:31,650 INFO [2024-02-01T00:00:00] Please note that accessing this dataset via CDS for time-critical operation is not advised or supported\n",
      "2025-10-01 12:05:31,651 INFO [2024-02-01T00:00:00] Please note we suggest checking the list of known issues on the GloFAS wiki\n",
      "[here](https://confluence.ecmwf.int/display/CEMS/GloFAS+-+Known+Issues)\n",
      "before downloading the dataset.\n",
      "2025-10-01 12:05:31,652 INFO Request ID is 4ec3a944-eaa2-40a8-ab44-c71084859f37\n",
      "2025-10-01 12:05:31,831 INFO status has been updated to accepted\n",
      "2025-10-01 12:05:42,304 INFO status has been updated to running\n",
      "2025-10-01 12:09:54,037 INFO status has been updated to successful\n"
     ]
    },
    {
     "data": {
      "application/vnd.jupyter.widget-view+json": {
       "model_id": "1d1f4f5b2d854ce497c8c59d09f8e28f",
       "version_major": 2,
       "version_minor": 0
      },
      "text/plain": [
       "8187632b9eb8942926b22040e8e7244b.grib:   0%|          | 0.00/6.76M [00:00<?, ?B/s]"
      ]
     },
     "metadata": {},
     "output_type": "display_data"
    },
    {
     "name": "stderr",
     "output_type": "stream",
     "text": [
      "2025-10-01 12:10:04,043 INFO [2024-02-01T00:00:00] Please note that accessing this dataset via CDS for time-critical operation is not advised or supported\n",
      "2025-10-01 12:10:04,044 INFO [2024-02-01T00:00:00] Please note we suggest checking the list of known issues on the GloFAS wiki\n",
      "[here](https://confluence.ecmwf.int/display/CEMS/GloFAS+-+Known+Issues)\n",
      "before downloading the dataset.\n",
      "2025-10-01 12:10:04,045 INFO Request ID is 554d1600-b3ef-4953-8b1c-60806b897005\n",
      "2025-10-01 12:10:04,406 INFO status has been updated to accepted\n",
      "2025-10-01 12:10:13,414 INFO status has been updated to running\n",
      "Recovering from connection error [('Connection aborted.', RemoteDisconnected('Remote end closed connection without response'))], attempt 1 of 500\n",
      "Retrying in 120 seconds\n",
      "2025-10-01 12:21:15,774 INFO status has been updated to successful\n"
     ]
    },
    {
     "data": {
      "application/vnd.jupyter.widget-view+json": {
       "model_id": "8a16758b638047bc88c057217d4821a8",
       "version_major": 2,
       "version_minor": 0
      },
      "text/plain": [
       "6d53dffde4ebec1a2f2fb20f6981d36d.grib:   0%|          | 0.00/6.76M [00:00<?, ?B/s]"
      ]
     },
     "metadata": {},
     "output_type": "display_data"
    },
    {
     "name": "stderr",
     "output_type": "stream",
     "text": [
      "2025-10-01 12:21:25,000 INFO [2024-02-01T00:00:00] Please note that accessing this dataset via CDS for time-critical operation is not advised or supported\n",
      "2025-10-01 12:21:25,008 INFO [2024-02-01T00:00:00] Please note we suggest checking the list of known issues on the GloFAS wiki\n",
      "[here](https://confluence.ecmwf.int/display/CEMS/GloFAS+-+Known+Issues)\n",
      "before downloading the dataset.\n",
      "2025-10-01 12:21:25,008 INFO Request ID is 8727c19c-869b-48e5-a5cb-6d539b576636\n",
      "2025-10-01 12:21:25,212 INFO status has been updated to accepted\n",
      "2025-10-01 12:21:58,936 INFO status has been updated to running\n",
      "2025-10-01 12:27:47,032 INFO status has been updated to successful\n"
     ]
    },
    {
     "data": {
      "application/vnd.jupyter.widget-view+json": {
       "model_id": "8d59083334af4ed4ac574a9aba79040c",
       "version_major": 2,
       "version_minor": 0
      },
      "text/plain": [
       "5727b010cda55a91a49325f2bac056cc.grib:   0%|          | 0.00/6.78M [00:00<?, ?B/s]"
      ]
     },
     "metadata": {},
     "output_type": "display_data"
    }
   ],
   "source": [
    "DATADIR = '......\\\\Glofas v3' # add your directory\n",
    "os.makedirs(DATADIR, exist_ok=True)\n",
    "\n",
    "\n",
    "if not os.path.isfile(download_file):\n",
    "    c = cdsapi.Client(\n",
    "        url=\"https://ewds.climate.copernicus.eu/api\",\n",
    "        key=\"***********************\" #put your key from here: https://ewds.climate.copernicus.eu/profile\n",
    "    )\n",
    "\n",
    "    DATASET = \"cems-glofas-historical\" # change your Dataset name (if needed) \n",
    "    for year in range(2006, 2021): # change the year\n",
    "        download_file = f\"{DATADIR}/glofas_{year}.grib\"\n",
    "        if not os.path.isfile(download_file):\n",
    "            REQUEST = {\n",
    "                \"system_version\": [\"version_4_0\"], \n",
    "                \"hydrological_model\": [\"lisflood\"],\n",
    "                \"product_type\": [\"consolidated\"],\n",
    "                \"variable\": [\"river_discharge_in_the_last_24_hours\"],\n",
    "                \"hyear\": [str(year)],\n",
    "                \"hmonth\": [f\"{month:02d}\" for month in range(1, 13)],\n",
    "                \"hday\": [f\"{day:02d}\" for day in range(1, 32)],\n",
    "                \"area\": [49.15, -115.7, 45.07, -111.8],\n",
    "                \"format\": \"grib\",\n",
    "            }\n",
    "            c.retrieve(DATASET, REQUEST).download(download_file)"
   ]
  }
 ],
 "metadata": {
  "kernelspec": {
   "display_name": "Python 3 (ipykernel)",
   "language": "python",
   "name": "python3"
  },
  "language_info": {
   "codemirror_mode": {
    "name": "ipython",
    "version": 3
   },
   "file_extension": ".py",
   "mimetype": "text/x-python",
   "name": "python",
   "nbconvert_exporter": "python",
   "pygments_lexer": "ipython3",
   "version": "3.12.4"
  }
 },
 "nbformat": 4,
 "nbformat_minor": 5
}
